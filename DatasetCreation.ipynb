{
 "cells": [
  {
   "cell_type": "code",
   "execution_count": 4,
   "metadata": {},
   "outputs": [],
   "source": [
    "import cv2\n",
    "import os\n",
    "\n",
    "num = 0\n",
    "directory_path = '/home/noranikoloska/Documents/TissueGAN/dataset/'\n",
    "\n",
    "crop_size = 840\n",
    "stride_size = 36\n",
    "\n",
    "for image in os.listdir(directory_path):\n",
    "    if os.path.isfile(directory_path + image): \n",
    "        img = cv2.imread(directory_path + '/' + image)\n",
    "        tiles = [img[x:x+crop_size, y:y+crop_size] for x in range(0,img.shape[0],stride_size) for y in range(0,img.shape[1],stride_size)]\n",
    "\n",
    "        for tile in tiles:\n",
    "            path = directory_path + 'sliced/tile-' + str(num) + '.png'\n",
    "            if (tile.shape == (crop_size, crop_size, 3)):\n",
    "                cv2.imwrite(path, tile)\n",
    "                num += 1"
   ]
  },
  {
   "cell_type": "code",
   "execution_count": null,
   "metadata": {},
   "outputs": [],
   "source": []
  }
 ],
 "metadata": {
  "kernelspec": {
   "display_name": "Python 3",
   "language": "python",
   "name": "python3"
  },
  "language_info": {
   "codemirror_mode": {
    "name": "ipython",
    "version": 3
   },
   "file_extension": ".py",
   "mimetype": "text/x-python",
   "name": "python",
   "nbconvert_exporter": "python",
   "pygments_lexer": "ipython3",
   "version": "3.7.6"
  }
 },
 "nbformat": 4,
 "nbformat_minor": 4
}
